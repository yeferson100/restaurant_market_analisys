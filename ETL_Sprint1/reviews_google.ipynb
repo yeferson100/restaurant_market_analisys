{
 "cells": [
  {
   "attachments": {},
   "cell_type": "markdown",
   "metadata": {},
   "source": [
    "* Esta linea de codigo lee la carpeta principal y subcarpetas\n",
    "* luego genera un archivo combined.json por cada subcarpeta\n",
    "* combinado los archivos .json en uno solo"
   ]
  },
  {
   "cell_type": "code",
   "execution_count": null,
   "metadata": {},
   "outputs": [],
   "source": [
    "import os\n",
    "import json\n",
    "import glob\n",
    "\n",
    "# Ruta de la carpeta principal que contiene las carpetas con archivos .json\n",
    "ruta_principal = 'C:/Users/Yeferson/Documents/Henry/ProyectoFinal/reviews-estados/'\n",
    "\n",
    "# Obtener la lista de carpetas que contienen archivos .json\n",
    "carpetas = glob.glob(os.path.join(ruta_principal, 'review-*'))\n",
    "\n",
    "for carpeta in carpetas:\n",
    "    # Lista para almacenar los datos de los archivos .json de cada subcarpeta\n",
    "    datos_json = []\n",
    "\n",
    "    for archivo in os.listdir(carpeta):\n",
    "        if archivo.endswith('.json'):\n",
    "            ruta_archivo = os.path.join(carpeta, archivo)\n",
    "            with open(ruta_archivo, 'r') as file:\n",
    "                for linea in file:\n",
    "                    try:\n",
    "                        datos_archivo = json.loads(linea)\n",
    "                        datos_json.append(datos_archivo)\n",
    "                    except json.JSONDecodeError:\n",
    "                        print(f\"Error al decodificar JSON en el archivo: {ruta_archivo}\")\n",
    "\n",
    "    # Nombre del archivo combinado dentro de la subcarpeta\n",
    "    archivo_combinado = os.path.join(carpeta, 'combined.json')\n",
    "\n",
    "    # Guardar los datos combinados en el archivo .json dentro de la subcarpeta\n",
    "    with open(archivo_combinado, 'w') as file:\n",
    "        json.dump(datos_json, file, indent=4)\n",
    "\n",
    "    print(f\"Se han combinado todos los archivos .json en '{archivo_combinado}'.\")"
   ]
  },
  {
   "attachments": {},
   "cell_type": "markdown",
   "metadata": {},
   "source": [
    "* Almacenamos los archivos parquet en una nueva carpeta\n",
    "* Tenemos 'time' con valores en ms y lo pasamos a tipo fecha\n",
    "* hacemos lo anterior por cada archivo parquet de cada estado"
   ]
  },
  {
   "cell_type": "code",
   "execution_count": null,
   "metadata": {},
   "outputs": [],
   "source": [
    "\n",
    "import pandas as pd\n",
    "import os\n",
    "\n",
    "def convert_time_to_date(file_path):\n",
    "    # Leer el archivo parquet\n",
    "    df = pd.read_parquet(file_path)\n",
    "    \n",
    "    # Convertir la columna \"time\" a fechas\n",
    "    df['time'] = pd.to_datetime(df['time'], unit='ms')\n",
    "    \n",
    "    # Guardar los cambios en el archivo original\n",
    "    df.to_parquet(file_path, index=False)\n",
    "\n",
    "if __name__ == \"__main__\":\n",
    "    # Ruta de la carpeta que contiene los archivos parquet\n",
    "    folder_path = 'C:/Users/Yeferson/Documents/Henry/ProyectoFinal/reviews_parquet'\n",
    "    \n",
    "    # Obtener la lista de archivos en la carpeta\n",
    "    file_list = os.listdir(folder_path)\n",
    "    \n",
    "    # Procesar cada archivo en la lista\n",
    "    for file_name in file_list:\n",
    "        # Verificar que el archivo sea de tipo parquet\n",
    "        if file_name.endswith('.parquet'):\n",
    "            file_path = os.path.join(folder_path, file_name)\n",
    "            convert_time_to_date(file_path)"
   ]
  }
 ],
 "metadata": {
  "language_info": {
   "name": "python"
  },
  "orig_nbformat": 4
 },
 "nbformat": 4,
 "nbformat_minor": 2
}
