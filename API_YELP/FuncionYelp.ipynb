{
  "nbformat": 4,
  "nbformat_minor": 0,
  "metadata": {
    "colab": {
      "provenance": []
    },
    "kernelspec": {
      "name": "python3",
      "display_name": "Python 3"
    },
    "language_info": {
      "name": "python"
    }
  },
  "cells": [
    {
      "cell_type": "markdown",
      "source": [
        "##API YELP BUSINESS - GOOGLE FUNCTIONS\n",
        "* Vamos a consumir la API de YELP de los comercios por ciudad pertenecientes a cada estado debido a la falta de datos en la BD inicial de YELP.\n",
        "\n",
        "* La API de YELP solo puede ser consultada 500 veces diarias con un mismo API_KEY\n",
        "\n",
        "* El consumo se hara mediante una Function en GCP la cual almacenara los datos en la nube (Storage)\n",
        "\n",
        "* Se Ejecutara mensualmente esta Function por medio de Scheduler para actualizar la información.\n",
        "\n",
        "1. Obtenemos las ciudades por estado\n",
        "2. Generamos nuestra clave para la API (API_KEY)\n",
        "3. Codigo que consume el API de YELP por Estado\n",
        "  - Obtenemos el estado a consultar\n",
        "  - generamos la consulta por las ciudades de este estado\n",
        "  - eliminamos valores duplicados y columnas innecesarias\n",
        "  - generamos un archivo con los comercios por cada estado"
      ],
      "metadata": {
        "id": "MrP1bCz58oPM"
      }
    },
    {
      "cell_type": "markdown",
      "source": [
        "### 1. Consultamos las 20 ciudades principales por cada estado"
      ],
      "metadata": {
        "id": "m_MEwpzi21SA"
      }
    },
    {
      "cell_type": "code",
      "source": [
        "FL_state=['Jacksonville','Miami','Tampa','Orlando','Hialeah','Tallahassee','Fort Lauderdale','Port St. Lucie','Pembroke Pines','Cabo Coral','Hollywood','Gainesville','Miramar','Coral Springs','Clearwater','Miami Gardens','Palm Bay','West Palm Beach','Pompano Beach','Lakeland','Davie','Miami Beach','Deltona','Plantation','Sunrise','Boca Ratón','Largo','Melbourne','Palm Coast','Deerfield Beach','Boynton Beach','Lauderhill','Weston','Fort Myers','Daytona Beach','Delray Beach','Homestead','Tamarac','Kissimmee']\n",
        "\n",
        "MD_state=['Baltimore','Ellicott City','Frederick','Rockville','Gaithersburg','Towson','Bowie','Hagerstown','Annapolis','College Park','Salisbury','Laurel','Greenbelt','Cumberland','Westminster','Hyattsville','Takoma Park','Easton','Elkton','Aberdeen','Havre de Grace','Cambridge','New Carrollton','Bel Air','Mount Airy','Bladensburg','Frostburg','La Plata','Mount Rainier','Ocean City','Riverdale Park','Taneytown','Hampstead','Cheverly','Thurmont','Glenarden','Brunswick','District Heights','Walkersville','Chesapeake Beach']\n",
        "\n",
        "VA_state=['Virginia Beach','Norfolk','Arlington','Chesapeake','Richmond','Newport News','Alexandria','Hampton','Roanoke','Portsmouth','Suffolk','Lynchburg','Harrisonburg','Charlottesville','Danville','Blacksburg','Manassas','Petersburg','Leesburg','Winchester','Salem','Fredericksburg','Staunton','Hopewell','Fairfax','Herndon','Waynesboro','Bristol','Colonial Heights','Christiansburg','Radford','Vienna','Manassas Park','Williamsburg','Martinsville','Front Royal','Falls Church','Poquoson','Culpeper','Pulaski']\n",
        "\n",
        "NC_state=['Charlotte','Raleigh','Greensboro','Winston-Salem','Durham','Fayetteville','Cary','Wilmington','High Point','Greenville','Asheville','Concord','Gastonia','Jacksonville','Rocky Mount','Chapel Hill','Burlington','Wilson','Huntersville','Kannapolis','Hickory','Apex','Goldsboro','Salisbury','Indian Trail','Monroe','Mooresville','Wake Forest','New Bern','Sanford','Matthews','Thomasville','Garner','Asheboro','Cornelius','Holly Springs','Statesville','Kernersville','Mint Hill','Kinston']\n",
        "\n",
        "SC_state=['Columbia','Charleston','North Charleston','Mount Pleasant','Rock Hill','Greenville','Summerville','Sumter','Hilton Head Island','Florence','Spartanburg','Goose Creek','Aiken','Myrtle Beach','Anderson','Greer','Greenwood','Mauldin','North Augusta','Easley','Simpsonville','Hanahan','Lexington','Conway','West Columbia','Orangeburg','Clemson','North Myrtle Beach','Bluffton','Cayce','Gaffney','Beaufort','Irmo','Fort Mill','Port Royal','Forest Acres','Newberry','Georgetown','Laurens','Bennettsville']\n",
        "\n",
        "GA_state=['Atlanta','Augusta','Columbus','Savannah','Macon','Sandy Springs','Roswell','Albany','Johns Creek','Marietta','Warner Robins','Dunwoody','Valdosta','Smyrna','East Point','Rome','Alpharetta','Milton','Peachtree City','Hinesville','Dalton','LaGrange','Gainesville','Woodstock','Griffin','Statesboro','Lawrenceville','Duluth','Kennesaw','Forest Park','College Park','Douglasville','Carrollton','Milledgeville','Thomasville','Decatur','Americus','Newnan','Cartersville']\n",
        "\n",
        "#Creamos un Arreglo de Estados\n",
        "States=[[FL_state,MD_state,VA_state],[NC_state,SC_state,GA_state]]"
      ],
      "metadata": {
        "id": "X52aqfQv2xAZ"
      },
      "execution_count": null,
      "outputs": []
    },
    {
      "cell_type": "markdown",
      "source": [
        "### 2. Nuestros API_KEY se generan en la plataforma de YELP (https://www.yelp.com/developers)\n",
        "* La API permite 500 consultas diarias por KEY.\n",
        "* La API genera maximo 1000 resultados por busqueda de parametros"
      ],
      "metadata": {
        "id": "tMSQM4m23OVe"
      }
    },
    {
      "cell_type": "code",
      "source": [
        "API_KEY1=\"FYmy3fM885WmsKHPQm5iNnONFxICfgwS1HTRKHwo1CyaY9gSldtZj0zwJ_XqaeAB2a-WEJY4W9TkvwiCPgQ9m1xGv1HPEOq8ineu7bskVTppic3AlN94WWqxYp73ZHYx\"\n",
        "API_KEY2=\"FuM9DYG5UZb47zwq3yHFHgZypkEmP1nj1UjsYJI0Jh80cNpH8iNgVs5jn0QdrDDl3SCYsDXAeGpETOYH-XIQKoSb71g-Seqzja0esMjv2kzmfCq_DUcXLi3ElKL3ZHYx\"\n",
        "API_KEY3='uLDX4szysHWQeCmenSD0oE_SbSb1ykotMovgIPp2tsuz1Rd0DaxX_QwqZRybkvPRGGQpa-Z1XLYCa7Pfy2uBus3L0ybwTeh0dPAENZ99vWVodwFoGjRIcgHSRAYCZXYx'"
      ],
      "metadata": {
        "id": "nIs275LL3EWM"
      },
      "execution_count": null,
      "outputs": []
    },
    {
      "cell_type": "markdown",
      "source": [
        "### 3. Creamos la Google Function que consumira el API de Yepl"
      ],
      "metadata": {
        "id": "wofDLC-j3joo"
      }
    },
    {
      "cell_type": "code",
      "source": [
        "#Importamos Las Librerias Necesarias\n",
        "import functions_framework\n",
        "import requests\n",
        "import pandas as pd\n",
        "import json\n",
        "from google.cloud import storage\n",
        "\n",
        "@functions_framework.http\n",
        "def api_yelp(request):\n",
        "    #Creamos un Funcion que consume el API, a partir de la ciudad y el API_KEY\n",
        "    def cityrequests(city,key):\n",
        "        new_data = []\n",
        "        param =  0 # cada pagina arroja maximo 50 resultados\n",
        "        base_url = \"https://api.yelp.com/v3/businesses/search\"\n",
        "        locations=city #Ciudad donde se hara la busqueda\n",
        "        category='seafood' #Categoria que se desea consultar\n",
        "        headers = {\n",
        "        \"accept\": \"application/json\",\n",
        "        \"Authorization\": \"Bearer {}\".format(key) # si agotamos las consultas diarias por KEY asignamos el otro KEY\n",
        "        }\n",
        "        businesses = []\n",
        "\n",
        "\n",
        "        while True:\n",
        "            #URL que consumira la API con los parametros antes designados\n",
        "            url = '{}?location={}&categories={}&attributes=&sort_by=best_match&limit=50&offset={}'.format(base_url,locations,category,param)\n",
        "\n",
        "            response = requests.get(url, headers=headers)\n",
        "            data = response.json()\n",
        "\n",
        "            if 'businesses' in data:\n",
        "              #Si entrega datos los almacena en businesses\n",
        "                current_businesses = data['businesses']\n",
        "                businesses.extend(current_businesses)\n",
        "\n",
        "              #Compara la cantidad de datos entregados para consultar mas con los mismos parametros\n",
        "                if len(current_businesses) < 50:\n",
        "                    break  # Ya no hay más resultados\n",
        "                else:\n",
        "                    param += 50 #Incrementamos en 50 para una nueva pagina\n",
        "            else:\n",
        "                #print(\"Error en la respuesta:\", data)\n",
        "                break\n",
        "        # Extraemos de los datos solo registros de nuestro interes\n",
        "        for record in businesses:\n",
        "            new_record = {\n",
        "                \"id\": record[\"id\"],\n",
        "                \"alias\": record[\"alias\"],\n",
        "                \"name\": record[\"name\"],\n",
        "                \"review_count\": record[\"review_count\"],\n",
        "                \"categories\": 'Seafood',\n",
        "                \"rating\": record[\"rating\"],\n",
        "                \"latitude\": record[\"coordinates\"][\"latitude\"],\n",
        "                \"longitude\": record[\"coordinates\"][\"longitude\"],\n",
        "                \"city\": record[\"location\"][\"city\"],\n",
        "                \"state\": record[\"location\"][\"state\"]\n",
        "            }\n",
        "            new_data.append(new_record)\n",
        "        #Retornamos solo la data con el acumulado de los registros de nuestro interes\n",
        "        return new_data\n",
        "  # NOTA: AGREGAMOS LOS ESTADOS DEL PUNTO 1. ¡IMPORTANTE!\n",
        "\n",
        "  # NOTA: AGREMAOS LAS API_KEY DEL PUNTO 2. ¡IMPORTANTE!\n",
        "\n",
        " # Hacemos un recorrido por los estados\n",
        "    state_merged=[]\n",
        "    for state in States[0]: #State[0] y API_KEY1 Para los Primeros 3 Estados (Recordar Limite de Consultas)\n",
        "        estado=[]\n",
        "        for city in state:\n",
        "            data= cityrequests(city,API_KEY1)\n",
        "            estado.extend(data)\n",
        "        state_merged.extend(estado)\n",
        "    for state in States[1]: #State[1] y API_KEY2 Para los Primeros 3 Estados (Recordar Limite de Consultas)\n",
        "        estado=[]\n",
        "        for city in state:\n",
        "            data= cityrequests(city,API_KEY2)\n",
        "            estado.extend(data)\n",
        "        state_merged.extend(estado)\n"
      ],
      "metadata": {
        "id": "DvvTrSDmoVuk"
      },
      "execution_count": null,
      "outputs": []
    },
    {
      "cell_type": "markdown",
      "source": [
        "### Nuestros datos pueden tener datos duplicados, los cuales afectan nuestro analisis y sistema de recomendación."
      ],
      "metadata": {
        "id": "kcAOJEdP6wFe"
      }
    },
    {
      "cell_type": "code",
      "source": [
        "  #Creamos un DataFrame y Eliminamos los Duplicados\n",
        "    df_estado=pd.DataFrame(state_merged)\n",
        "    df_estado= df_estado.loc[~df_estado.duplicated(subset=['id','alias'], keep=False)].reset_index(drop=True).copy()\n"
      ],
      "metadata": {
        "id": "PUDh5OcS6rM4"
      },
      "execution_count": null,
      "outputs": []
    },
    {
      "cell_type": "markdown",
      "source": [
        "### Los Datos seran almacenados en Google Storage Para disponer de danera directa a estos."
      ],
      "metadata": {
        "id": "UjdpRS1Y7QA9"
      }
    },
    {
      "cell_type": "code",
      "source": [
        "  #Parametros de Bucket de Destino y nombre del archivo\n",
        "    bucket_name='data-cruda'\n",
        "    file_name='yelp_restaurantes.csv'\n",
        "    df_estado.to_csv(file_name, index=False)\n",
        "\n",
        "    client = storage.Client()\n",
        "    bucket= client.bucket(bucket_name)\n",
        "\n",
        "    blob = bucket.blob(file_name)\n",
        "    blob.upload_from_filename(file_name)\n",
        "    return 'Exito'"
      ],
      "metadata": {
        "id": "QucmBjb-7J23"
      },
      "execution_count": null,
      "outputs": []
    }
  ]
}